{
 "cells": [
  {
   "cell_type": "code",
   "execution_count": 77,
   "metadata": {},
   "outputs": [],
   "source": [
    "from numpy import *\n",
    "import h5py\n",
    "import scipy.optimize as opt\n",
    "from scipy.special import factorial, gamma, gammaincc, erf\n",
    "from scipy import pi\n",
    "import glob\n",
    "\n",
    "import matplotlib.pyplot as plt"
   ]
  },
  {
   "cell_type": "code",
   "execution_count": 89,
   "metadata": {},
   "outputs": [],
   "source": [
    "def load_data(h5file,source,iteration,measurements,shots):\n",
    "    if source == 'Hamamatsu':\n",
    "        roi = array([range(4,7),range(3,6)])\n",
    "        imdat = zeros((measurements,shots,len(roi[0,:]),len(roi[1,:])),dtype=int)\n",
    "        for ms in range(measurements):\n",
    "            for sht in range(shots):\n",
    "                datpath = '/experiments/0/iterations/{}/measurements/{}/data/Hamamatsu/shots/{}'.format(iteration,ms,sht)\n",
    "                #print filepath\n",
    "                try:\n",
    "                    im = array(h5file[(datpath)])\n",
    "                    #fig,ax = plt.subplots(1,1)\n",
    "                    #ax.imshow(mesDat)\n",
    "                    #print mesDat[roi[0],:][:,roi[1]]\n",
    "                    imdat[ms,sht,:,:] = im[roi[0],:][:,roi[1]]\n",
    "                    #print (\"mesDatarr\",mesDatarr[it,ms,sht,:,:])\n",
    "                except KeyError as e:\n",
    "                    print \"Error while loading data : {}\".format(e)\n",
    "                    print datpath\n",
    "        histdat = imdat.sum(2).sum(2)\n",
    "    else:\n",
    "        histdat = None\n",
    "    return histdat\n",
    "\n",
    "def loading(self,fit_cut=True,zer_cut=-1,mult_cut=-1):\n",
    "    if fit_cut:\n",
    "        self.fit_hist()\n",
    "    else: \n",
    "        try:\n",
    "            #assert (zer_cut > 0 && mult_cut > 0), \"If you want me to take your cuts you have to give me cuts!\"\n",
    "            self.zer_cut = zer_cut\n",
    "            self.mult_cut = mult_cut\n",
    "        except AssertionError as e:\n",
    "            raise Warning(e)\n",
    "            self.fit_hist()\n",
    "    shot = 0\n",
    "    count = self.histdat[:,shot]\n",
    "    self.load_frac = (count*(count<=self.mult_cut)>=self.zer_cut).sum()*1.0/(1.0*self.measurements)\n",
    "    self.no_load = (count<self.zer_cut).sum()*1.0/(1.0*measurements)\n",
    "    self.mult_load = (count>self.mult_cut).sum()*1.0/(1.0*measurements)\n",
    "\n",
    "    return self.load_frac,self.no_load,self.mult_load\n",
    "\n",
    "def ret(histdat,cut,cuterr,popt):\n",
    "    rload = (histdat[:,0]>=cut).sum()/(len(histdat[:,0])*1.0)\n",
    "    print rload\n",
    "    if rload > 0:\n",
    "        retention = (1.0*(histdat[:,0]>=cut)*(histdat[:,1]>cut)).sum()/(histdat[:,0]>=cut).sum()\n",
    "        shot_error = sqrt(retention*(1-retention)/(histdat[:,0]>=cut).sum())\n",
    "        ct_error_plus = abs(1.0*((histdat[:,0]>=cut+cuterr)*(histdat[:,1]>cut+cuterr)).sum()/(histdat[:,0]>=cut+cuterr).sum()-retention)\n",
    "        ct_error_minus = abs(1.0*((histdat[:,0]>=cut-cuterr)*(histdat[:,1]>cut-cuterr)).sum()/(histdat[:,0]>=cut-cuterr).sum()-retention)\n",
    "        ovlp_error = get_overlap_error(cut,*abs(popt[:4]))\n",
    "        print ct_error_plus,ct_error_minus\n",
    "        retention_error = sqrt(shot_error**2+(ct_error_plus+ct_error_minus)**2*0.25+ovlp_error**2)\n",
    "    else:\n",
    "        retention = 0\n",
    "        retention_error = 0\n",
    "    return retention,retention_error\n",
    "\n",
    "def fit_hist(histdat,guess=None):\n",
    "    func = dblGauss\n",
    "\n",
    "    #hdat = HmCountDat[it,:,1]\n",
    "    bns = range(min(histdat),max(histdat),(max(histdat)-min(histdat))/30)\n",
    "    h = histogram(histdat,bins=bns)#,normed=True)\n",
    "    xdat = array(h[1][1:],dtype=float)\n",
    "    ydat = array(h[0],dtype=float)\n",
    "\n",
    "    if guess is None:\n",
    "        x0g = 21000\n",
    "        x1g = 24000\n",
    "        std0g = 1000.0\n",
    "        std1g = 2000.0\n",
    "        a0g = 6.0e1\n",
    "        a1g = 6.0e1\n",
    "        guess = [x0g,x1g,std0g,std1g,a0g,a1g]\n",
    "\n",
    "    popt,pcov = opt.curve_fit(f=func,xdata=xdat,ydata=ydat,p0=guess)\n",
    "    perr = sqrt(diag(pcov))\n",
    "\n",
    "    return popt,perr\n",
    "\n",
    "def dblGauss(x,x0,x1,std0,std1,a0,a1):\n",
    "    xp0 = x-x0\n",
    "    xp1 = x-x1\n",
    "    g0 = a0*exp(-0.5*(xp0/std0)**2)\n",
    "    g1 = a1*exp(-0.5*(xp1/std1)**2)\n",
    "    return g0+g1\n",
    "\n",
    "def get_overlap_error(xc,x0,x1,s0,s1):\n",
    "    return 0.5*( 1-erf((xc-x0)/(sqrt(2)*s0)) + 1-erf((x1-xc)/(sqrt(2)*s1)) )\n",
    "\n",
    "def get_cut(x0,x1,s0,s1):\n",
    "    rad = (x0-x1)**2+2*(s1**2-s0**2)*log(s1/s0)\n",
    "    num = x1*s0**2-x0*s1**2-s0*s1*sqrt(rad)\n",
    "    denuminv = 1/(s0**2-s1**2)\n",
    "    xc = num*denuminv\n",
    "\n",
    "    print \"rad {}\".format(rad)\n",
    "    print \"num {}\".format(num)\n",
    "    print \"denuminv {}\".format(denuminv)\n",
    "    #self.zer_cut = num*denuminv\n",
    "    return num*denuminv        \n",
    "\n",
    "def get_cut_err(x0,x1,s0,s1,dx0,dx1,ds0,ds1):\n",
    "    rad = (x0-x1)**2+2*(s1**2-s0**2)*log(s1/s0)\n",
    "    num = x1*s0**2-x0*s1**2-s0*s1*sqrt(rad)\n",
    "    rdinv = 1/sqrt(rad)\n",
    "    denuminv = 1/(s0**2-s1**2)\n",
    "    xc = num*denuminv\n",
    "\n",
    "    px0 = -denuminv*(s1**2+s0*s1*rdinv*(x0-x1))\n",
    "    px1 = denuminv*(s0**2+s0*s1*rdinv*(x0-x1))\n",
    "    ps0 = denuminv*s0*(2*(x1-xc)-s1*sqrt(rad)/s0+s1*(s1**2/s0+s0*(2*log(s1/s0)+1)))/sqrt(rad)\n",
    "    ps1 = denuminv*s1*(2*(xc-x0)-s0*sqrt(rad)/s1+s0*(s0**2/s1-s1*(2*log(s1/s0)+1)))/sqrt(rad)\n",
    "\n",
    "    return dx0*px0+dx1*px1+ds0*ps0+ds1*ps1"
   ]
  },
  {
   "cell_type": "code",
   "execution_count": 40,
   "metadata": {},
   "outputs": [
    {
     "name": "stdout",
     "output_type": "stream",
     "text": [
      "C:/Users/Juan/Repos/2019_12_12_11_45_01_LoadingBL/results.hdf5\n"
     ]
    }
   ],
   "source": [
    "#Path to hdf5 file, change for cspy\n",
    "filepath = 'C:/Users/Juan/Repos/2019_12_12_11_45_01_LoadingBL/results.hdf5'\n",
    "h5filename = filepath\n",
    "print h5filename\n",
    "h5file = h5py.File(h5filename)\n",
    "\n",
    "shots = 2\n",
    "measurements = h5file['settings/experiment/measurementsPerIteration'][()]\n",
    "iterations = len(h5file['/iterations/'].items())\n",
    "iteration = 0#self.experiment.iteration\n",
    "\n",
    "histdat = load_data(h5file,'Hamamatsu',iteration,measurements,shots)"
   ]
  },
  {
   "cell_type": "code",
   "execution_count": 90,
   "metadata": {},
   "outputs": [
    {
     "name": "stdout",
     "output_type": "stream",
     "text": [
      "rad 58281366.3436\n",
      "num -68394354188.7\n",
      "denuminv -3.36821115997e-07\n"
     ]
    },
    {
     "data": {
      "image/png": "[encoded data removed]",
      "text/plain": [
       "<Figure size 576x576 with 1 Axes>"
      ]
     },
     "metadata": {
      "needs_background": "light"
     },
     "output_type": "display_data"
    }
   ],
   "source": [
    "popt,perr = fit_hist(histdat[:,1])\n",
    "cut = get_cut(*abs(popt[:4]))\n",
    "cut_err = get_cut_err(*append(abs(popt[:4]),perr[:4]))\n",
    "bns = linspace(min(histdat[:,1])-100,max(histdat[:,0])+100,30)\n",
    "xlin = linspace(min(histdat[:,1])-100,max(histdat[:,0])+100,1000)\n",
    "fig,ax = plt.subplots(1,1,figsize=(8,8))\n",
    "ax.hist(histdat[:,0],histtype=\"step\",bins=bns,label=\"Shot 0\")\n",
    "ax.hist(histdat[:,1],histtype=\"step\",bins=bns,label=\"Shot 1\")\n",
    "ax.plot(xlin,dblGauss(xlin,*popt))\n",
    "ax.axvline(x=cut)\n",
    "ax.axvline(x=cut+cut_err)\n",
    "ax.axvline(x=cut-cut_err)\n",
    "#ax.set_xlim(22900,23100)\n",
    "fig.show()"
   ]
  },
  {
   "cell_type": "code",
   "execution_count": 88,
   "metadata": {},
   "outputs": [
    {
     "name": "stdout",
     "output_type": "stream",
     "text": [
      "0.632\n",
      "0.0031645569620253333 0.0036024201894754304\n",
      "0.5727848101265823 0.028069908502681373\n",
      "0.0014481627400753094\n"
     ]
    }
   ],
   "source": [
    "retention,retention_error = ret(histdat,cut,cut_err,popt)\n",
    "print retention,retention_error\n",
    "print get_overlap_error(cut,*abs(popt[:4]))"
   ]
  },
  {
   "cell_type": "code",
   "execution_count": 75,
   "metadata": {},
   "outputs": [
    {
     "ename": "RuntimeError",
     "evalue": "Optimal parameters not found: Number of calls to function has reached maxfev = 1400.",
     "output_type": "error",
     "traceback": [
      "\u001b[1;31m---------------------------------------------------------------------------\u001b[0m",
      "\u001b[1;31mRuntimeError\u001b[0m                              Traceback (most recent call last)",
      "\u001b[1;32m<ipython-input-75-f3baf176295b>\u001b[0m in \u001b[0;36m<module>\u001b[1;34m()\u001b[0m\n\u001b[0;32m      7\u001b[0m \u001b[0ma1\u001b[0m \u001b[1;33m=\u001b[0m \u001b[1;36m0.5\u001b[0m\u001b[1;33m\u001b[0m\u001b[0m\n\u001b[0;32m      8\u001b[0m \u001b[0mg\u001b[0m \u001b[1;33m=\u001b[0m \u001b[0mOPTcosts\u001b[0m\u001b[1;33m.\u001b[0m\u001b[0mdblGauss\u001b[0m\u001b[1;33m(\u001b[0m\u001b[0mxlin\u001b[0m\u001b[1;33m,\u001b[0m\u001b[0mx0\u001b[0m\u001b[1;33m,\u001b[0m\u001b[0mx1\u001b[0m\u001b[1;33m,\u001b[0m\u001b[0ms0\u001b[0m\u001b[1;33m,\u001b[0m\u001b[0ms1\u001b[0m\u001b[1;33m,\u001b[0m\u001b[0ma0\u001b[0m\u001b[1;33m,\u001b[0m\u001b[0ma1\u001b[0m\u001b[1;33m)\u001b[0m\u001b[1;33m\u001b[0m\u001b[0m\n\u001b[1;32m----> 9\u001b[1;33m \u001b[0mpopt\u001b[0m\u001b[1;33m,\u001b[0m\u001b[0mperr\u001b[0m \u001b[1;33m=\u001b[0m \u001b[0mOPTcosts\u001b[0m\u001b[1;33m.\u001b[0m\u001b[0mfit_hist\u001b[0m\u001b[1;33m(\u001b[0m\u001b[0mxlin\u001b[0m\u001b[1;33m,\u001b[0m\u001b[0mg\u001b[0m\u001b[1;33m,\u001b[0m\u001b[0mx0\u001b[0m\u001b[1;33m,\u001b[0m\u001b[0mx1\u001b[0m\u001b[1;33m)\u001b[0m\u001b[1;33m\u001b[0m\u001b[0m\n\u001b[0m\u001b[0;32m     10\u001b[0m \u001b[0mc\u001b[0m \u001b[1;33m=\u001b[0m \u001b[0mOPTcosts\u001b[0m\u001b[1;33m.\u001b[0m\u001b[0mget_cut\u001b[0m\u001b[1;33m(\u001b[0m\u001b[0mx0\u001b[0m\u001b[1;33m,\u001b[0m\u001b[0mx1\u001b[0m\u001b[1;33m,\u001b[0m\u001b[0ms0\u001b[0m\u001b[1;33m,\u001b[0m\u001b[0ms1\u001b[0m\u001b[1;33m)\u001b[0m\u001b[1;33m\u001b[0m\u001b[0m\n\u001b[0;32m     11\u001b[0m \u001b[0mfig\u001b[0m\u001b[1;33m,\u001b[0m\u001b[0max\u001b[0m \u001b[1;33m=\u001b[0m \u001b[0mplt\u001b[0m\u001b[1;33m.\u001b[0m\u001b[0msubplots\u001b[0m\u001b[1;33m(\u001b[0m\u001b[1;36m1\u001b[0m\u001b[1;33m,\u001b[0m\u001b[1;36m1\u001b[0m\u001b[1;33m,\u001b[0m\u001b[0mfigsize\u001b[0m\u001b[1;33m=\u001b[0m\u001b[1;33m(\u001b[0m\u001b[1;36m8\u001b[0m\u001b[1;33m,\u001b[0m\u001b[1;36m8\u001b[0m\u001b[1;33m)\u001b[0m\u001b[1;33m)\u001b[0m\u001b[1;33m\u001b[0m\u001b[0m\n",
      "\u001b[1;32m<ipython-input-70-df197bffa969>\u001b[0m in \u001b[0;36mfit_hist\u001b[1;34m(xdat, ydat, x0g, x1g)\u001b[0m\n\u001b[0;32m    100\u001b[0m         \u001b[0mguess\u001b[0m \u001b[1;33m=\u001b[0m \u001b[1;33m[\u001b[0m\u001b[0mx0g\u001b[0m\u001b[1;33m,\u001b[0m\u001b[0mx1g\u001b[0m\u001b[1;33m,\u001b[0m\u001b[0mstd0g\u001b[0m\u001b[1;33m,\u001b[0m\u001b[0mstd1g\u001b[0m\u001b[1;33m,\u001b[0m\u001b[0ma0g\u001b[0m\u001b[1;33m,\u001b[0m\u001b[0ma1g\u001b[0m\u001b[1;33m]\u001b[0m\u001b[1;33m\u001b[0m\u001b[0m\n\u001b[0;32m    101\u001b[0m \u001b[1;33m\u001b[0m\u001b[0m\n\u001b[1;32m--> 102\u001b[1;33m         \u001b[0mpopt\u001b[0m\u001b[1;33m,\u001b[0m\u001b[0mpcov\u001b[0m \u001b[1;33m=\u001b[0m \u001b[0mopt\u001b[0m\u001b[1;33m.\u001b[0m\u001b[0mcurve_fit\u001b[0m\u001b[1;33m(\u001b[0m\u001b[0mf\u001b[0m\u001b[1;33m=\u001b[0m\u001b[0mfunc\u001b[0m\u001b[1;33m,\u001b[0m\u001b[0mxdata\u001b[0m\u001b[1;33m=\u001b[0m\u001b[0mxdat\u001b[0m\u001b[1;33m,\u001b[0m\u001b[0mydata\u001b[0m\u001b[1;33m=\u001b[0m\u001b[0mydat\u001b[0m\u001b[1;33m,\u001b[0m\u001b[0mp0\u001b[0m\u001b[1;33m=\u001b[0m\u001b[0mguess\u001b[0m\u001b[1;33m)\u001b[0m\u001b[1;33m\u001b[0m\u001b[0m\n\u001b[0m\u001b[0;32m    103\u001b[0m         \u001b[0mperr\u001b[0m \u001b[1;33m=\u001b[0m \u001b[0msqrt\u001b[0m\u001b[1;33m(\u001b[0m\u001b[0mdiag\u001b[0m\u001b[1;33m(\u001b[0m\u001b[0mpcov\u001b[0m\u001b[1;33m)\u001b[0m\u001b[1;33m)\u001b[0m\u001b[1;33m\u001b[0m\u001b[0m\n\u001b[0;32m    104\u001b[0m \u001b[1;33m\u001b[0m\u001b[0m\n",
      "\u001b[1;32mC:\\Users\\Juan\\Anaconda2\\lib\\site-packages\\scipy\\optimize\\minpack.pyc\u001b[0m in \u001b[0;36mcurve_fit\u001b[1;34m(f, xdata, ydata, p0, sigma, absolute_sigma, check_finite, bounds, method, jac, **kwargs)\u001b[0m\n\u001b[0;32m    746\u001b[0m         \u001b[0mcost\u001b[0m \u001b[1;33m=\u001b[0m \u001b[0mnp\u001b[0m\u001b[1;33m.\u001b[0m\u001b[0msum\u001b[0m\u001b[1;33m(\u001b[0m\u001b[0minfodict\u001b[0m\u001b[1;33m[\u001b[0m\u001b[1;34m'fvec'\u001b[0m\u001b[1;33m]\u001b[0m \u001b[1;33m**\u001b[0m \u001b[1;36m2\u001b[0m\u001b[1;33m)\u001b[0m\u001b[1;33m\u001b[0m\u001b[0m\n\u001b[0;32m    747\u001b[0m         \u001b[1;32mif\u001b[0m \u001b[0mier\u001b[0m \u001b[1;32mnot\u001b[0m \u001b[1;32min\u001b[0m \u001b[1;33m[\u001b[0m\u001b[1;36m1\u001b[0m\u001b[1;33m,\u001b[0m \u001b[1;36m2\u001b[0m\u001b[1;33m,\u001b[0m \u001b[1;36m3\u001b[0m\u001b[1;33m,\u001b[0m \u001b[1;36m4\u001b[0m\u001b[1;33m]\u001b[0m\u001b[1;33m:\u001b[0m\u001b[1;33m\u001b[0m\u001b[0m\n\u001b[1;32m--> 748\u001b[1;33m             \u001b[1;32mraise\u001b[0m \u001b[0mRuntimeError\u001b[0m\u001b[1;33m(\u001b[0m\u001b[1;34m\"Optimal parameters not found: \"\u001b[0m \u001b[1;33m+\u001b[0m \u001b[0merrmsg\u001b[0m\u001b[1;33m)\u001b[0m\u001b[1;33m\u001b[0m\u001b[0m\n\u001b[0m\u001b[0;32m    749\u001b[0m     \u001b[1;32melse\u001b[0m\u001b[1;33m:\u001b[0m\u001b[1;33m\u001b[0m\u001b[0m\n\u001b[0;32m    750\u001b[0m         \u001b[1;31m# Rename maxfev (leastsq) to max_nfev (least_squares), if specified.\u001b[0m\u001b[1;33m\u001b[0m\u001b[1;33m\u001b[0m\u001b[0m\n",
      "\u001b[1;31mRuntimeError\u001b[0m: Optimal parameters not found: Number of calls to function has reached maxfev = 1400."
     ]
    }
   ],
   "source": [
    "xlin = linspace(0,50,1000)\n",
    "x0 = 10.0\n",
    "x1 = 30.0\n",
    "s0 = sqrt(x0)\n",
    "s1 = sqrt(x1)\n",
    "a0 = 0.5\n",
    "a1 = 0.5\n",
    "g = OPTcosts.dblGauss(xlin,x0,x1,s0,s1,a0,a1)\n",
    "popt,perr = OPTcosts.fit_hist(xlin,g,x0,x1)\n",
    "c = OPTcosts.get_cut(x0,x1,s0,s1)\n",
    "fig,ax = plt.subplots(1,1,figsize=(8,8))\n",
    "ax.plot(xlin,g)\n",
    "ax.plot(xlin,OPTcosts.dblGauss(xlin,*popt))\n",
    "ax.axvline(x=c)\n",
    "fig.show()\n",
    "print c\n"
   ]
  },
  {
   "cell_type": "code",
   "execution_count": 73,
   "metadata": {},
   "outputs": [
    {
     "name": "stdout",
     "output_type": "stream",
     "text": [
      "[21000. 24000.  1000.  2000.    60.    60.]\n"
     ]
    }
   ],
   "source": [
    "print popt"
   ]
  },
  {
   "cell_type": "code",
   "execution_count": 18,
   "metadata": {},
   "outputs": [
    {
     "name": "stdout",
     "output_type": "stream",
     "text": [
      "Help on function get_cut in module __main__:\n",
      "\n",
      "get_cut(x0, x1, s0, s1)\n",
      "\n"
     ]
    }
   ],
   "source": [
    "help(OPTcosts.get_cut)"
   ]
  },
  {
   "cell_type": "code",
   "execution_count": 54,
   "metadata": {},
   "outputs": [
    {
     "data": {
      "image/png": "[encoded data removed]",
      "text/plain": [
       "<Figure size 432x288 with 1 Axes>"
      ]
     },
     "metadata": {
      "needs_background": "light"
     },
     "output_type": "display_data"
    }
   ],
   "source": [
    "plt.hist(cst.histdat[:,0],histtype=\"step\",bins=cst.bns,label=\"Shot 0\")\n",
    "plt.hist(cst.histdat[:,1],histtype=\"step\",bins=cst.bns,label=\"Shot 1\")\n",
    "plt.show()"
   ]
  },
  {
   "cell_type": "code",
   "execution_count": 56,
   "metadata": {},
   "outputs": [
    {
     "data": {
      "text/plain": [
       "<matplotlib.image.AxesImage at 0xd240908>"
      ]
     },
     "execution_count": 56,
     "metadata": {},
     "output_type": "execute_result"
    },
    {
     "data": {
      "image/png": "[encoded data removed]",
      "text/plain": [
       "<Figure size 432x288 with 1 Axes>"
      ]
     },
     "metadata": {
      "needs_background": "light"
     },
     "output_type": "display_data"
    }
   ],
   "source": [
    "plt.imshow(cst.imdat[:,0,:,:].mean(0))"
   ]
  },
  {
   "cell_type": "code",
   "execution_count": 67,
   "metadata": {},
   "outputs": [
    {
     "ename": "Warning",
     "evalue": "Bruh",
     "output_type": "error",
     "traceback": [
      "\u001b[1;31m---------------------------------------------------------------------------\u001b[0m",
      "\u001b[1;31mWarning\u001b[0m                                   Traceback (most recent call last)",
      "\u001b[1;32m<ipython-input-67-666918f2bc5b>\u001b[0m in \u001b[0;36m<module>\u001b[1;34m()\u001b[0m\n\u001b[0;32m      3\u001b[0m     \u001b[1;32massert\u001b[0m \u001b[0mf\u001b[0m\u001b[1;33m==\u001b[0m\u001b[1;36m6\u001b[0m\u001b[1;33m,\u001b[0m \u001b[1;34m\"Bruh\"\u001b[0m\u001b[1;33m\u001b[0m\u001b[0m\n\u001b[0;32m      4\u001b[0m \u001b[1;32mexcept\u001b[0m \u001b[0mAssertionError\u001b[0m \u001b[1;32mas\u001b[0m \u001b[0me\u001b[0m\u001b[1;33m:\u001b[0m\u001b[1;33m\u001b[0m\u001b[0m\n\u001b[1;32m----> 5\u001b[1;33m     \u001b[1;32mraise\u001b[0m \u001b[0mWarning\u001b[0m\u001b[1;33m(\u001b[0m\u001b[0me\u001b[0m\u001b[1;33m)\u001b[0m\u001b[1;33m\u001b[0m\u001b[0m\n\u001b[0m",
      "\u001b[1;31mWarning\u001b[0m: Bruh"
     ]
    }
   ],
   "source": [
    "f = 5\n",
    "try:\n",
    "    assert f==6, \"Bruh\"\n",
    "except AssertionError as e:\n",
    "    raise Warning(e)"
   ]
  },
  {
   "cell_type": "code",
   "execution_count": null,
   "metadata": {},
   "outputs": [],
   "source": []
  }
 ],
 "metadata": {
  "kernelspec": {
   "display_name": "Python 2",
   "language": "python",
   "name": "python2"
  },
  "language_info": {
   "codemirror_mode": {
    "name": "ipython",
    "version": 2
   },
   "file_extension": ".py",
   "mimetype": "text/x-python",
   "name": "python",
   "nbconvert_exporter": "python",
   "pygments_lexer": "ipython2",
   "version": "2.7.16"
  }
 },
 "nbformat": 4,
 "nbformat_minor": 2
}
